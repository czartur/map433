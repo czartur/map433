{
  "nbformat": 4,
  "nbformat_minor": 0,
  "metadata": {
    "colab": {
      "provenance": [],
      "collapsed_sections": []
    },
    "kernelspec": {
      "name": "python3",
      "display_name": "Python 3"
    },
    "language_info": {
      "name": "python"
    }
  },
  "cells": [
    {
      "cell_type": "code",
      "source": [
        "import pandas as pd\n",
        "import numpy as np\n",
        "import statsmodels.api as sm\n",
        "import scipy.stats\n",
        "from matplotlib import pyplot as plt\n",
        "from patsy import dmatrices"
      ],
      "metadata": {
        "id": "l1X6xb0875W0"
      },
      "execution_count": null,
      "outputs": []
    },
    {
      "cell_type": "code",
      "execution_count": null,
      "metadata": {
        "colab": {
          "base_uri": "https://localhost:8080/",
          "height": 300
        },
        "id": "rysICEmv5dQs",
        "outputId": "976678a7-53de-403a-aaeb-2f83e5f85cfc"
      },
      "outputs": [
        {
          "output_type": "execute_result",
          "data": {
            "text/plain": [
              "       PassengerId    Survived      Pclass         Age       SibSp  \\\n",
              "count   891.000000  891.000000  891.000000  714.000000  891.000000   \n",
              "mean    446.000000    0.383838    2.308642   29.699118    0.523008   \n",
              "std     257.353842    0.486592    0.836071   14.526497    1.102743   \n",
              "min       1.000000    0.000000    1.000000    0.420000    0.000000   \n",
              "25%     223.500000    0.000000    2.000000   20.125000    0.000000   \n",
              "50%     446.000000    0.000000    3.000000   28.000000    0.000000   \n",
              "75%     668.500000    1.000000    3.000000   38.000000    1.000000   \n",
              "max     891.000000    1.000000    3.000000   80.000000    8.000000   \n",
              "\n",
              "            Parch        Fare  \n",
              "count  891.000000  891.000000  \n",
              "mean     0.381594   32.204208  \n",
              "std      0.806057   49.693429  \n",
              "min      0.000000    0.000000  \n",
              "25%      0.000000    7.910400  \n",
              "50%      0.000000   14.454200  \n",
              "75%      0.000000   31.000000  \n",
              "max      6.000000  512.329200  "
            ],
            "text/html": [
              "\n",
              "  <div id=\"df-08b2b1c2-7188-4b6f-8f57-0c0cdbc6b719\">\n",
              "    <div class=\"colab-df-container\">\n",
              "      <div>\n",
              "<style scoped>\n",
              "    .dataframe tbody tr th:only-of-type {\n",
              "        vertical-align: middle;\n",
              "    }\n",
              "\n",
              "    .dataframe tbody tr th {\n",
              "        vertical-align: top;\n",
              "    }\n",
              "\n",
              "    .dataframe thead th {\n",
              "        text-align: right;\n",
              "    }\n",
              "</style>\n",
              "<table border=\"1\" class=\"dataframe\">\n",
              "  <thead>\n",
              "    <tr style=\"text-align: right;\">\n",
              "      <th></th>\n",
              "      <th>PassengerId</th>\n",
              "      <th>Survived</th>\n",
              "      <th>Pclass</th>\n",
              "      <th>Age</th>\n",
              "      <th>SibSp</th>\n",
              "      <th>Parch</th>\n",
              "      <th>Fare</th>\n",
              "    </tr>\n",
              "  </thead>\n",
              "  <tbody>\n",
              "    <tr>\n",
              "      <th>count</th>\n",
              "      <td>891.000000</td>\n",
              "      <td>891.000000</td>\n",
              "      <td>891.000000</td>\n",
              "      <td>714.000000</td>\n",
              "      <td>891.000000</td>\n",
              "      <td>891.000000</td>\n",
              "      <td>891.000000</td>\n",
              "    </tr>\n",
              "    <tr>\n",
              "      <th>mean</th>\n",
              "      <td>446.000000</td>\n",
              "      <td>0.383838</td>\n",
              "      <td>2.308642</td>\n",
              "      <td>29.699118</td>\n",
              "      <td>0.523008</td>\n",
              "      <td>0.381594</td>\n",
              "      <td>32.204208</td>\n",
              "    </tr>\n",
              "    <tr>\n",
              "      <th>std</th>\n",
              "      <td>257.353842</td>\n",
              "      <td>0.486592</td>\n",
              "      <td>0.836071</td>\n",
              "      <td>14.526497</td>\n",
              "      <td>1.102743</td>\n",
              "      <td>0.806057</td>\n",
              "      <td>49.693429</td>\n",
              "    </tr>\n",
              "    <tr>\n",
              "      <th>min</th>\n",
              "      <td>1.000000</td>\n",
              "      <td>0.000000</td>\n",
              "      <td>1.000000</td>\n",
              "      <td>0.420000</td>\n",
              "      <td>0.000000</td>\n",
              "      <td>0.000000</td>\n",
              "      <td>0.000000</td>\n",
              "    </tr>\n",
              "    <tr>\n",
              "      <th>25%</th>\n",
              "      <td>223.500000</td>\n",
              "      <td>0.000000</td>\n",
              "      <td>2.000000</td>\n",
              "      <td>20.125000</td>\n",
              "      <td>0.000000</td>\n",
              "      <td>0.000000</td>\n",
              "      <td>7.910400</td>\n",
              "    </tr>\n",
              "    <tr>\n",
              "      <th>50%</th>\n",
              "      <td>446.000000</td>\n",
              "      <td>0.000000</td>\n",
              "      <td>3.000000</td>\n",
              "      <td>28.000000</td>\n",
              "      <td>0.000000</td>\n",
              "      <td>0.000000</td>\n",
              "      <td>14.454200</td>\n",
              "    </tr>\n",
              "    <tr>\n",
              "      <th>75%</th>\n",
              "      <td>668.500000</td>\n",
              "      <td>1.000000</td>\n",
              "      <td>3.000000</td>\n",
              "      <td>38.000000</td>\n",
              "      <td>1.000000</td>\n",
              "      <td>0.000000</td>\n",
              "      <td>31.000000</td>\n",
              "    </tr>\n",
              "    <tr>\n",
              "      <th>max</th>\n",
              "      <td>891.000000</td>\n",
              "      <td>1.000000</td>\n",
              "      <td>3.000000</td>\n",
              "      <td>80.000000</td>\n",
              "      <td>8.000000</td>\n",
              "      <td>6.000000</td>\n",
              "      <td>512.329200</td>\n",
              "    </tr>\n",
              "  </tbody>\n",
              "</table>\n",
              "</div>\n",
              "      <button class=\"colab-df-convert\" onclick=\"convertToInteractive('df-08b2b1c2-7188-4b6f-8f57-0c0cdbc6b719')\"\n",
              "              title=\"Convert this dataframe to an interactive table.\"\n",
              "              style=\"display:none;\">\n",
              "        \n",
              "  <svg xmlns=\"http://www.w3.org/2000/svg\" height=\"24px\"viewBox=\"0 0 24 24\"\n",
              "       width=\"24px\">\n",
              "    <path d=\"M0 0h24v24H0V0z\" fill=\"none\"/>\n",
              "    <path d=\"M18.56 5.44l.94 2.06.94-2.06 2.06-.94-2.06-.94-.94-2.06-.94 2.06-2.06.94zm-11 1L8.5 8.5l.94-2.06 2.06-.94-2.06-.94L8.5 2.5l-.94 2.06-2.06.94zm10 10l.94 2.06.94-2.06 2.06-.94-2.06-.94-.94-2.06-.94 2.06-2.06.94z\"/><path d=\"M17.41 7.96l-1.37-1.37c-.4-.4-.92-.59-1.43-.59-.52 0-1.04.2-1.43.59L10.3 9.45l-7.72 7.72c-.78.78-.78 2.05 0 2.83L4 21.41c.39.39.9.59 1.41.59.51 0 1.02-.2 1.41-.59l7.78-7.78 2.81-2.81c.8-.78.8-2.07 0-2.86zM5.41 20L4 18.59l7.72-7.72 1.47 1.35L5.41 20z\"/>\n",
              "  </svg>\n",
              "      </button>\n",
              "      \n",
              "  <style>\n",
              "    .colab-df-container {\n",
              "      display:flex;\n",
              "      flex-wrap:wrap;\n",
              "      gap: 12px;\n",
              "    }\n",
              "\n",
              "    .colab-df-convert {\n",
              "      background-color: #E8F0FE;\n",
              "      border: none;\n",
              "      border-radius: 50%;\n",
              "      cursor: pointer;\n",
              "      display: none;\n",
              "      fill: #1967D2;\n",
              "      height: 32px;\n",
              "      padding: 0 0 0 0;\n",
              "      width: 32px;\n",
              "    }\n",
              "\n",
              "    .colab-df-convert:hover {\n",
              "      background-color: #E2EBFA;\n",
              "      box-shadow: 0px 1px 2px rgba(60, 64, 67, 0.3), 0px 1px 3px 1px rgba(60, 64, 67, 0.15);\n",
              "      fill: #174EA6;\n",
              "    }\n",
              "\n",
              "    [theme=dark] .colab-df-convert {\n",
              "      background-color: #3B4455;\n",
              "      fill: #D2E3FC;\n",
              "    }\n",
              "\n",
              "    [theme=dark] .colab-df-convert:hover {\n",
              "      background-color: #434B5C;\n",
              "      box-shadow: 0px 1px 3px 1px rgba(0, 0, 0, 0.15);\n",
              "      filter: drop-shadow(0px 1px 2px rgba(0, 0, 0, 0.3));\n",
              "      fill: #FFFFFF;\n",
              "    }\n",
              "  </style>\n",
              "\n",
              "      <script>\n",
              "        const buttonEl =\n",
              "          document.querySelector('#df-08b2b1c2-7188-4b6f-8f57-0c0cdbc6b719 button.colab-df-convert');\n",
              "        buttonEl.style.display =\n",
              "          google.colab.kernel.accessAllowed ? 'block' : 'none';\n",
              "\n",
              "        async function convertToInteractive(key) {\n",
              "          const element = document.querySelector('#df-08b2b1c2-7188-4b6f-8f57-0c0cdbc6b719');\n",
              "          const dataTable =\n",
              "            await google.colab.kernel.invokeFunction('convertToInteractive',\n",
              "                                                     [key], {});\n",
              "          if (!dataTable) return;\n",
              "\n",
              "          const docLinkHtml = 'Like what you see? Visit the ' +\n",
              "            '<a target=\"_blank\" href=https://colab.research.google.com/notebooks/data_table.ipynb>data table notebook</a>'\n",
              "            + ' to learn more about interactive tables.';\n",
              "          element.innerHTML = '';\n",
              "          dataTable['output_type'] = 'display_data';\n",
              "          await google.colab.output.renderOutput(dataTable, element);\n",
              "          const docLink = document.createElement('div');\n",
              "          docLink.innerHTML = docLinkHtml;\n",
              "          element.appendChild(docLink);\n",
              "        }\n",
              "      </script>\n",
              "    </div>\n",
              "  </div>\n",
              "  "
            ]
          },
          "metadata": {},
          "execution_count": 3
        }
      ],
      "source": [
        "url = 'https://raw.githubusercontent.com/czartur/map433/main/dm2/data_Titanic.csv'\n",
        "df = pd.read_csv(url)\n",
        "df.describe()"
      ]
    },
    {
      "cell_type": "code",
      "source": [
        "# Data cleaning\n",
        "# NA age receives mean of age\n",
        "df = df.fillna(value={'Age': df.Age.mean()})\n",
        "# Introduisant des variables \"muettes\"\n",
        "#df = pd.get_dummies(df, columns= ['Sex', 'Pclass'])\n",
        "df = df.replace(['male', 'female'], [0,1])\n",
        "print(df)"
      ],
      "metadata": {
        "colab": {
          "base_uri": "https://localhost:8080/"
        },
        "id": "LqrTH2JgCzMx",
        "outputId": "8090835e-ffaa-4b8b-e847-cde1ce1f55db"
      },
      "execution_count": null,
      "outputs": [
        {
          "output_type": "stream",
          "name": "stdout",
          "text": [
            "     PassengerId  Survived  Pclass  \\\n",
            "0              1         0       3   \n",
            "1              2         1       1   \n",
            "2              3         1       3   \n",
            "3              4         1       1   \n",
            "4              5         0       3   \n",
            "..           ...       ...     ...   \n",
            "886          887         0       2   \n",
            "887          888         1       1   \n",
            "888          889         0       3   \n",
            "889          890         1       1   \n",
            "890          891         0       3   \n",
            "\n",
            "                                                  Name  Sex        Age  SibSp  \\\n",
            "0                              Braund, Mr. Owen Harris    0  22.000000      1   \n",
            "1    Cumings, Mrs. John Bradley (Florence Briggs Th...    1  38.000000      1   \n",
            "2                               Heikkinen, Miss. Laina    1  26.000000      0   \n",
            "3         Futrelle, Mrs. Jacques Heath (Lily May Peel)    1  35.000000      1   \n",
            "4                             Allen, Mr. William Henry    0  35.000000      0   \n",
            "..                                                 ...  ...        ...    ...   \n",
            "886                              Montvila, Rev. Juozas    0  27.000000      0   \n",
            "887                       Graham, Miss. Margaret Edith    1  19.000000      0   \n",
            "888           Johnston, Miss. Catherine Helen \"Carrie\"    1  29.699118      1   \n",
            "889                              Behr, Mr. Karl Howell    0  26.000000      0   \n",
            "890                                Dooley, Mr. Patrick    0  32.000000      0   \n",
            "\n",
            "     Parch            Ticket     Fare Cabin Embarked  \n",
            "0        0         A/5 21171   7.2500   NaN        S  \n",
            "1        0          PC 17599  71.2833   C85        C  \n",
            "2        0  STON/O2. 3101282   7.9250   NaN        S  \n",
            "3        0            113803  53.1000  C123        S  \n",
            "4        0            373450   8.0500   NaN        S  \n",
            "..     ...               ...      ...   ...      ...  \n",
            "886      0            211536  13.0000   NaN        S  \n",
            "887      0            112053  30.0000   B42        S  \n",
            "888      2        W./C. 6607  23.4500   NaN        S  \n",
            "889      0            111369  30.0000  C148        C  \n",
            "890      0            370376   7.7500   NaN        Q  \n",
            "\n",
            "[891 rows x 12 columns]\n"
          ]
        }
      ]
    },
    {
      "cell_type": "code",
      "source": [
        "decedes = df[df['Survived']==0]['Survived'].count()\n",
        "\n",
        "print('Nombre de passagers décédés:', decedes)\n",
        "print('Proportion de passagers décédés:', str(round((decedes/df.Survived.count())*100, 2))+'%')"
      ],
      "metadata": {
        "colab": {
          "base_uri": "https://localhost:8080/"
        },
        "id": "o7GlWncV8geG",
        "outputId": "f9b3ba84-2821-4b38-a4ef-34d69f432e94"
      },
      "execution_count": null,
      "outputs": [
        {
          "output_type": "stream",
          "name": "stdout",
          "text": [
            "Nombre de passagers décédés: 549\n",
            "Proportion de passagers décédés: 61.62%\n"
          ]
        }
      ]
    },
    {
      "cell_type": "code",
      "source": [
        "proportions_sex = df.groupby('Survived').mean()\n",
        "\n",
        "print(proportions_sex.Sex)"
      ],
      "metadata": {
        "colab": {
          "base_uri": "https://localhost:8080/"
        },
        "id": "n0eE0hrL9RNP",
        "outputId": "897f0b5c-ef86-4370-dde6-271a1fcdac61"
      },
      "execution_count": null,
      "outputs": [
        {
          "output_type": "stream",
          "name": "stdout",
          "text": [
            "Survived\n",
            "0    0.147541\n",
            "1    0.681287\n",
            "Name: Sex, dtype: float64\n"
          ]
        }
      ]
    },
    {
      "cell_type": "code",
      "source": [
        "fig, ax = plt.subplots()\n",
        "data = ['man_survived', 'woman_survived', 'man_dead', 'woman_dead']\n",
        "counts = [1-proportions_sex['Sex'][1], proportions_sex['Sex'][1], 1-proportions_sex['Sex'][0], proportions_sex['Sex'][0]]\n",
        "bar_colors = ['tab:blue', 'tab:blue', 'tab:red', 'tab:red']\n",
        "ax.bar(data, counts, color=bar_colors)\n",
        "ax.set_ylabel('Proportion')\n",
        "ax.set_title('Proportions of deaths in Titanic')\n",
        "ax.legend(title='Titanic')\n",
        "plt.show()"
      ],
      "metadata": {
        "id": "qyrPCPBXBJ8D",
        "colab": {
          "base_uri": "https://localhost:8080/",
          "height": 300
        },
        "outputId": "9f9e521c-574d-46a0-e1b3-5356a43a400d"
      },
      "execution_count": null,
      "outputs": [
        {
          "output_type": "stream",
          "name": "stderr",
          "text": [
            "WARNING:matplotlib.legend:No handles with labels found to put in legend.\n"
          ]
        },
        {
          "output_type": "display_data",
          "data": {
            "text/plain": [
              "<Figure size 432x288 with 1 Axes>"
            ],
            "image/png": "[encoded data removed]"
          },
          "metadata": {
            "needs_background": "light"
          }
        }
      ]
    },
    {
      "cell_type": "markdown",
      "source": [
        "À partir de ces observations, nous pouvons conclure que si vous étiez un homme sur le Titanic, le risque de mourir était plus élevé."
      ],
      "metadata": {
        "id": "eXNm7x2UFJMI"
      }
    },
    {
      "cell_type": "code",
      "source": [
        "print(df.groupby(['Pclass']).mean()['Survived'])\n",
        "print(df.groupby(['Survived', 'Pclass'])['Survived'].count())"
      ],
      "metadata": {
        "id": "Ftc9BEtDCq2c",
        "colab": {
          "base_uri": "https://localhost:8080/"
        },
        "outputId": "2bea34c9-68cb-49fa-b6b5-78ea31c70cce"
      },
      "execution_count": null,
      "outputs": [
        {
          "output_type": "stream",
          "name": "stdout",
          "text": [
            "Pclass\n",
            "1    0.629630\n",
            "2    0.472826\n",
            "3    0.242363\n",
            "Name: Survived, dtype: float64\n",
            "Survived  Pclass\n",
            "0         1          80\n",
            "          2          97\n",
            "          3         372\n",
            "1         1         136\n",
            "          2          87\n",
            "          3         119\n",
            "Name: Survived, dtype: int64\n"
          ]
        }
      ]
    },
    {
      "cell_type": "markdown",
      "source": [
        "Ces observations nous permettent de conclure que le taux de mortalité des passagers de première classe était nettement inférieur à celui des passagers de troisième classe. Les personnes issues de la première classe sont plus nombreuses à avoir survécu que celles issues de la troisième classe, ce dernier chiffre étant environ 2,5 fois plus élevé.\n"
      ],
      "metadata": {
        "id": "ev14-gxmFbmI"
      }
    },
    {
      "cell_type": "code",
      "source": [
        "corr = df.corr()\n",
        "corr.style.background_gradient(cmap='coolwarm')"
      ],
      "metadata": {
        "id": "0CzekHXAKbzB",
        "colab": {
          "base_uri": "https://localhost:8080/",
          "height": 300
        },
        "outputId": "cefd7bf9-9bf4-40e3-f8f9-abfa7d9edf01"
      },
      "execution_count": null,
      "outputs": [
        {
          "output_type": "execute_result",
          "data": {
            "text/plain": [
              "<pandas.io.formats.style.Styler at 0x7f7664e61050>"
            ],
            "text/html": [
              "<style type=\"text/css\">\n",
              "#T_4583b_row0_col0, #T_4583b_row1_col1, #T_4583b_row2_col2, #T_4583b_row3_col3, #T_4583b_row4_col4, #T_4583b_row5_col5, #T_4583b_row6_col6, #T_4583b_row7_col7 {\n",
              "  background-color: #b40426;\n",
              "  color: #f1f1f1;\n",
              "}\n",
              "#T_4583b_row0_col1 {\n",
              "  background-color: #8caffe;\n",
              "  color: #000000;\n",
              "}\n",
              "#T_4583b_row0_col2 {\n",
              "  background-color: #a9c6fd;\n",
              "  color: #000000;\n",
              "}\n",
              "#T_4583b_row0_col3 {\n",
              "  background-color: #536edd;\n",
              "  color: #f1f1f1;\n",
              "}\n",
              "#T_4583b_row0_col4 {\n",
              "  background-color: #96b7ff;\n",
              "  color: #000000;\n",
              "}\n",
              "#T_4583b_row0_col5, #T_4583b_row4_col2 {\n",
              "  background-color: #6788ee;\n",
              "  color: #f1f1f1;\n",
              "}\n",
              "#T_4583b_row0_col6 {\n",
              "  background-color: #6a8bef;\n",
              "  color: #f1f1f1;\n",
              "}\n",
              "#T_4583b_row0_col7, #T_4583b_row3_col6 {\n",
              "  background-color: #b3cdfb;\n",
              "  color: #000000;\n",
              "}\n",
              "#T_4583b_row1_col0 {\n",
              "  background-color: #4961d2;\n",
              "  color: #f1f1f1;\n",
              "}\n",
              "#T_4583b_row1_col2 {\n",
              "  background-color: #6485ec;\n",
              "  color: #f1f1f1;\n",
              "}\n",
              "#T_4583b_row1_col3 {\n",
              "  background-color: #f1ccb8;\n",
              "  color: #000000;\n",
              "}\n",
              "#T_4583b_row1_col4 {\n",
              "  background-color: #7a9df8;\n",
              "  color: #f1f1f1;\n",
              "}\n",
              "#T_4583b_row1_col5 {\n",
              "  background-color: #6c8ff1;\n",
              "  color: #f1f1f1;\n",
              "}\n",
              "#T_4583b_row1_col6 {\n",
              "  background-color: #82a6fb;\n",
              "  color: #f1f1f1;\n",
              "}\n",
              "#T_4583b_row1_col7 {\n",
              "  background-color: #e2dad5;\n",
              "  color: #000000;\n",
              "}\n",
              "#T_4583b_row2_col0 {\n",
              "  background-color: #4055c8;\n",
              "  color: #f1f1f1;\n",
              "}\n",
              "#T_4583b_row2_col1, #T_4583b_row2_col3, #T_4583b_row2_col4, #T_4583b_row2_col7, #T_4583b_row4_col5, #T_4583b_row4_col6, #T_4583b_row5_col0, #T_4583b_row7_col2 {\n",
              "  background-color: #3b4cc0;\n",
              "  color: #f1f1f1;\n",
              "}\n",
              "#T_4583b_row2_col5 {\n",
              "  background-color: #8fb1fe;\n",
              "  color: #000000;\n",
              "}\n",
              "#T_4583b_row2_col6 {\n",
              "  background-color: #6f92f3;\n",
              "  color: #f1f1f1;\n",
              "}\n",
              "#T_4583b_row3_col0 {\n",
              "  background-color: #3e51c5;\n",
              "  color: #f1f1f1;\n",
              "}\n",
              "#T_4583b_row3_col1 {\n",
              "  background-color: #f7ba9f;\n",
              "  color: #000000;\n",
              "}\n",
              "#T_4583b_row3_col2 {\n",
              "  background-color: #93b5fe;\n",
              "  color: #000000;\n",
              "}\n",
              "#T_4583b_row3_col4 {\n",
              "  background-color: #7699f6;\n",
              "  color: #f1f1f1;\n",
              "}\n",
              "#T_4583b_row3_col5 {\n",
              "  background-color: #98b9ff;\n",
              "  color: #000000;\n",
              "}\n",
              "#T_4583b_row3_col7 {\n",
              "  background-color: #d5dbe5;\n",
              "  color: #000000;\n",
              "}\n",
              "#T_4583b_row4_col0 {\n",
              "  background-color: #5470de;\n",
              "  color: #f1f1f1;\n",
              "}\n",
              "#T_4583b_row4_col1 {\n",
              "  background-color: #7b9ff9;\n",
              "  color: #f1f1f1;\n",
              "}\n",
              "#T_4583b_row4_col3 {\n",
              "  background-color: #465ecf;\n",
              "  color: #f1f1f1;\n",
              "}\n",
              "#T_4583b_row4_col7 {\n",
              "  background-color: #c4d5f3;\n",
              "  color: #000000;\n",
              "}\n",
              "#T_4583b_row5_col1 {\n",
              "  background-color: #84a7fc;\n",
              "  color: #f1f1f1;\n",
              "}\n",
              "#T_4583b_row5_col2 {\n",
              "  background-color: #c3d5f4;\n",
              "  color: #000000;\n",
              "}\n",
              "#T_4583b_row5_col3 {\n",
              "  background-color: #81a4fb;\n",
              "  color: #f1f1f1;\n",
              "}\n",
              "#T_4583b_row5_col4 {\n",
              "  background-color: #506bda;\n",
              "  color: #f1f1f1;\n",
              "}\n",
              "#T_4583b_row5_col6 {\n",
              "  background-color: #dddcdc;\n",
              "  color: #000000;\n",
              "}\n",
              "#T_4583b_row5_col7 {\n",
              "  background-color: #d2dbe8;\n",
              "  color: #000000;\n",
              "}\n",
              "#T_4583b_row6_col0 {\n",
              "  background-color: #4a63d3;\n",
              "  color: #f1f1f1;\n",
              "}\n",
              "#T_4583b_row6_col1 {\n",
              "  background-color: #a3c2fe;\n",
              "  color: #000000;\n",
              "}\n",
              "#T_4583b_row6_col2 {\n",
              "  background-color: #b5cdfa;\n",
              "  color: #000000;\n",
              "}\n",
              "#T_4583b_row6_col3, #T_4583b_row7_col6 {\n",
              "  background-color: #aac7fd;\n",
              "  color: #000000;\n",
              "}\n",
              "#T_4583b_row6_col4 {\n",
              "  background-color: #5e7de7;\n",
              "  color: #f1f1f1;\n",
              "}\n",
              "#T_4583b_row6_col5 {\n",
              "  background-color: #e3d9d3;\n",
              "  color: #000000;\n",
              "}\n",
              "#T_4583b_row6_col7 {\n",
              "  background-color: #dbdcde;\n",
              "  color: #000000;\n",
              "}\n",
              "#T_4583b_row7_col0 {\n",
              "  background-color: #4e68d8;\n",
              "  color: #f1f1f1;\n",
              "}\n",
              "#T_4583b_row7_col1 {\n",
              "  background-color: #cdd9ec;\n",
              "  color: #000000;\n",
              "}\n",
              "#T_4583b_row7_col3 {\n",
              "  background-color: #97b8ff;\n",
              "  color: #000000;\n",
              "}\n",
              "#T_4583b_row7_col4, #T_4583b_row7_col5 {\n",
              "  background-color: #a5c3fe;\n",
              "  color: #000000;\n",
              "}\n",
              "</style>\n",
              "<table id=\"T_4583b_\" class=\"dataframe\">\n",
              "  <thead>\n",
              "    <tr>\n",
              "      <th class=\"blank level0\" >&nbsp;</th>\n",
              "      <th class=\"col_heading level0 col0\" >PassengerId</th>\n",
              "      <th class=\"col_heading level0 col1\" >Survived</th>\n",
              "      <th class=\"col_heading level0 col2\" >Pclass</th>\n",
              "      <th class=\"col_heading level0 col3\" >Sex</th>\n",
              "      <th class=\"col_heading level0 col4\" >Age</th>\n",
              "      <th class=\"col_heading level0 col5\" >SibSp</th>\n",
              "      <th class=\"col_heading level0 col6\" >Parch</th>\n",
              "      <th class=\"col_heading level0 col7\" >Fare</th>\n",
              "    </tr>\n",
              "  </thead>\n",
              "  <tbody>\n",
              "    <tr>\n",
              "      <th id=\"T_4583b_level0_row0\" class=\"row_heading level0 row0\" >PassengerId</th>\n",
              "      <td id=\"T_4583b_row0_col0\" class=\"data row0 col0\" >1.000000</td>\n",
              "      <td id=\"T_4583b_row0_col1\" class=\"data row0 col1\" >-0.005007</td>\n",
              "      <td id=\"T_4583b_row0_col2\" class=\"data row0 col2\" >-0.035144</td>\n",
              "      <td id=\"T_4583b_row0_col3\" class=\"data row0 col3\" >-0.042939</td>\n",
              "      <td id=\"T_4583b_row0_col4\" class=\"data row0 col4\" >0.033207</td>\n",
              "      <td id=\"T_4583b_row0_col5\" class=\"data row0 col5\" >-0.057527</td>\n",
              "      <td id=\"T_4583b_row0_col6\" class=\"data row0 col6\" >-0.001652</td>\n",
              "      <td id=\"T_4583b_row0_col7\" class=\"data row0 col7\" >0.012658</td>\n",
              "    </tr>\n",
              "    <tr>\n",
              "      <th id=\"T_4583b_level0_row1\" class=\"row_heading level0 row1\" >Survived</th>\n",
              "      <td id=\"T_4583b_row1_col0\" class=\"data row1 col0\" >-0.005007</td>\n",
              "      <td id=\"T_4583b_row1_col1\" class=\"data row1 col1\" >1.000000</td>\n",
              "      <td id=\"T_4583b_row1_col2\" class=\"data row1 col2\" >-0.338481</td>\n",
              "      <td id=\"T_4583b_row1_col3\" class=\"data row1 col3\" >0.543351</td>\n",
              "      <td id=\"T_4583b_row1_col4\" class=\"data row1 col4\" >-0.069809</td>\n",
              "      <td id=\"T_4583b_row1_col5\" class=\"data row1 col5\" >-0.035322</td>\n",
              "      <td id=\"T_4583b_row1_col6\" class=\"data row1 col6\" >0.081629</td>\n",
              "      <td id=\"T_4583b_row1_col7\" class=\"data row1 col7\" >0.257307</td>\n",
              "    </tr>\n",
              "    <tr>\n",
              "      <th id=\"T_4583b_level0_row2\" class=\"row_heading level0 row2\" >Pclass</th>\n",
              "      <td id=\"T_4583b_row2_col0\" class=\"data row2 col0\" >-0.035144</td>\n",
              "      <td id=\"T_4583b_row2_col1\" class=\"data row2 col1\" >-0.338481</td>\n",
              "      <td id=\"T_4583b_row2_col2\" class=\"data row2 col2\" >1.000000</td>\n",
              "      <td id=\"T_4583b_row2_col3\" class=\"data row2 col3\" >-0.131900</td>\n",
              "      <td id=\"T_4583b_row2_col4\" class=\"data row2 col4\" >-0.331339</td>\n",
              "      <td id=\"T_4583b_row2_col5\" class=\"data row2 col5\" >0.083081</td>\n",
              "      <td id=\"T_4583b_row2_col6\" class=\"data row2 col6\" >0.018443</td>\n",
              "      <td id=\"T_4583b_row2_col7\" class=\"data row2 col7\" >-0.549500</td>\n",
              "    </tr>\n",
              "    <tr>\n",
              "      <th id=\"T_4583b_level0_row3\" class=\"row_heading level0 row3\" >Sex</th>\n",
              "      <td id=\"T_4583b_row3_col0\" class=\"data row3 col0\" >-0.042939</td>\n",
              "      <td id=\"T_4583b_row3_col1\" class=\"data row3 col1\" >0.543351</td>\n",
              "      <td id=\"T_4583b_row3_col2\" class=\"data row3 col2\" >-0.131900</td>\n",
              "      <td id=\"T_4583b_row3_col3\" class=\"data row3 col3\" >1.000000</td>\n",
              "      <td id=\"T_4583b_row3_col4\" class=\"data row3 col4\" >-0.084153</td>\n",
              "      <td id=\"T_4583b_row3_col5\" class=\"data row3 col5\" >0.114631</td>\n",
              "      <td id=\"T_4583b_row3_col6\" class=\"data row3 col6\" >0.245489</td>\n",
              "      <td id=\"T_4583b_row3_col7\" class=\"data row3 col7\" >0.182333</td>\n",
              "    </tr>\n",
              "    <tr>\n",
              "      <th id=\"T_4583b_level0_row4\" class=\"row_heading level0 row4\" >Age</th>\n",
              "      <td id=\"T_4583b_row4_col0\" class=\"data row4 col0\" >0.033207</td>\n",
              "      <td id=\"T_4583b_row4_col1\" class=\"data row4 col1\" >-0.069809</td>\n",
              "      <td id=\"T_4583b_row4_col2\" class=\"data row4 col2\" >-0.331339</td>\n",
              "      <td id=\"T_4583b_row4_col3\" class=\"data row4 col3\" >-0.084153</td>\n",
              "      <td id=\"T_4583b_row4_col4\" class=\"data row4 col4\" >1.000000</td>\n",
              "      <td id=\"T_4583b_row4_col5\" class=\"data row4 col5\" >-0.232625</td>\n",
              "      <td id=\"T_4583b_row4_col6\" class=\"data row4 col6\" >-0.179191</td>\n",
              "      <td id=\"T_4583b_row4_col7\" class=\"data row4 col7\" >0.091566</td>\n",
              "    </tr>\n",
              "    <tr>\n",
              "      <th id=\"T_4583b_level0_row5\" class=\"row_heading level0 row5\" >SibSp</th>\n",
              "      <td id=\"T_4583b_row5_col0\" class=\"data row5 col0\" >-0.057527</td>\n",
              "      <td id=\"T_4583b_row5_col1\" class=\"data row5 col1\" >-0.035322</td>\n",
              "      <td id=\"T_4583b_row5_col2\" class=\"data row5 col2\" >0.083081</td>\n",
              "      <td id=\"T_4583b_row5_col3\" class=\"data row5 col3\" >0.114631</td>\n",
              "      <td id=\"T_4583b_row5_col4\" class=\"data row5 col4\" >-0.232625</td>\n",
              "      <td id=\"T_4583b_row5_col5\" class=\"data row5 col5\" >1.000000</td>\n",
              "      <td id=\"T_4583b_row5_col6\" class=\"data row5 col6\" >0.414838</td>\n",
              "      <td id=\"T_4583b_row5_col7\" class=\"data row5 col7\" >0.159651</td>\n",
              "    </tr>\n",
              "    <tr>\n",
              "      <th id=\"T_4583b_level0_row6\" class=\"row_heading level0 row6\" >Parch</th>\n",
              "      <td id=\"T_4583b_row6_col0\" class=\"data row6 col0\" >-0.001652</td>\n",
              "      <td id=\"T_4583b_row6_col1\" class=\"data row6 col1\" >0.081629</td>\n",
              "      <td id=\"T_4583b_row6_col2\" class=\"data row6 col2\" >0.018443</td>\n",
              "      <td id=\"T_4583b_row6_col3\" class=\"data row6 col3\" >0.245489</td>\n",
              "      <td id=\"T_4583b_row6_col4\" class=\"data row6 col4\" >-0.179191</td>\n",
              "      <td id=\"T_4583b_row6_col5\" class=\"data row6 col5\" >0.414838</td>\n",
              "      <td id=\"T_4583b_row6_col6\" class=\"data row6 col6\" >1.000000</td>\n",
              "      <td id=\"T_4583b_row6_col7\" class=\"data row6 col7\" >0.216225</td>\n",
              "    </tr>\n",
              "    <tr>\n",
              "      <th id=\"T_4583b_level0_row7\" class=\"row_heading level0 row7\" >Fare</th>\n",
              "      <td id=\"T_4583b_row7_col0\" class=\"data row7 col0\" >0.012658</td>\n",
              "      <td id=\"T_4583b_row7_col1\" class=\"data row7 col1\" >0.257307</td>\n",
              "      <td id=\"T_4583b_row7_col2\" class=\"data row7 col2\" >-0.549500</td>\n",
              "      <td id=\"T_4583b_row7_col3\" class=\"data row7 col3\" >0.182333</td>\n",
              "      <td id=\"T_4583b_row7_col4\" class=\"data row7 col4\" >0.091566</td>\n",
              "      <td id=\"T_4583b_row7_col5\" class=\"data row7 col5\" >0.159651</td>\n",
              "      <td id=\"T_4583b_row7_col6\" class=\"data row7 col6\" >0.216225</td>\n",
              "      <td id=\"T_4583b_row7_col7\" class=\"data row7 col7\" >1.000000</td>\n",
              "    </tr>\n",
              "  </tbody>\n",
              "</table>\n"
            ]
          },
          "metadata": {},
          "execution_count": 9
        }
      ]
    },
    {
      "cell_type": "markdown",
      "source": [
        "A partir de cette matrice de covariance, nous pouvons étendre l'analyse faite précédemment, en notant qu'il existe une relation négative entre le Sex et la Pclass, ce qui signifie qu'en général, les femmes avaient des classes plus petites et peuvent donc biaiser les relations observées pour les variables uniques faites précédemment.\n",
        "De plus, nous pouvons observer qu'en fait, Pclass et Sex influencent inversement et proportionnellement, respectivement, comme dit précédemment.\n",
        "\n",
        "Une autre variable qui a une corrélation importante avec Survived est Fare, qui a une corrélation négative avec Pclass (ce qui est attendu, puisque les petites classes sont généralement plus chères)."
      ],
      "metadata": {
        "id": "Vh732ByFGoiB"
      }
    },
    {
      "cell_type": "code",
      "source": [
        "# Creating dmatrix\n",
        "y, X = dmatrices('Survived ~ Age + SibSp + Parch + Fare + Sex + Pclass', data=df, return_type='dataframe')"
      ],
      "metadata": {
        "id": "9P00GtKYKmH6"
      },
      "execution_count": null,
      "outputs": []
    },
    {
      "cell_type": "code",
      "source": [
        "X"
      ],
      "metadata": {
        "colab": {
          "base_uri": "https://localhost:8080/",
          "height": 423
        },
        "id": "RkAobVodjkDt",
        "outputId": "98520b91-5539-4e14-d947-83fa3e83ec9c"
      },
      "execution_count": null,
      "outputs": [
        {
          "output_type": "execute_result",
          "data": {
            "text/plain": [
              "     Intercept        Age  SibSp  Parch     Fare  Sex  Pclass\n",
              "0          1.0  22.000000    1.0    0.0   7.2500  0.0     3.0\n",
              "1          1.0  38.000000    1.0    0.0  71.2833  1.0     1.0\n",
              "2          1.0  26.000000    0.0    0.0   7.9250  1.0     3.0\n",
              "3          1.0  35.000000    1.0    0.0  53.1000  1.0     1.0\n",
              "4          1.0  35.000000    0.0    0.0   8.0500  0.0     3.0\n",
              "..         ...        ...    ...    ...      ...  ...     ...\n",
              "886        1.0  27.000000    0.0    0.0  13.0000  0.0     2.0\n",
              "887        1.0  19.000000    0.0    0.0  30.0000  1.0     1.0\n",
              "888        1.0  29.699118    1.0    2.0  23.4500  1.0     3.0\n",
              "889        1.0  26.000000    0.0    0.0  30.0000  0.0     1.0\n",
              "890        1.0  32.000000    0.0    0.0   7.7500  0.0     3.0\n",
              "\n",
              "[891 rows x 7 columns]"
            ],
            "text/html": [
              "\n",
              "  <div id=\"df-0e662bb8-0a66-47c4-99aa-00f512528829\">\n",
              "    <div class=\"colab-df-container\">\n",
              "      <div>\n",
              "<style scoped>\n",
              "    .dataframe tbody tr th:only-of-type {\n",
              "        vertical-align: middle;\n",
              "    }\n",
              "\n",
              "    .dataframe tbody tr th {\n",
              "        vertical-align: top;\n",
              "    }\n",
              "\n",
              "    .dataframe thead th {\n",
              "        text-align: right;\n",
              "    }\n",
              "</style>\n",
              "<table border=\"1\" class=\"dataframe\">\n",
              "  <thead>\n",
              "    <tr style=\"text-align: right;\">\n",
              "      <th></th>\n",
              "      <th>Intercept</th>\n",
              "      <th>Age</th>\n",
              "      <th>SibSp</th>\n",
              "      <th>Parch</th>\n",
              "      <th>Fare</th>\n",
              "      <th>Sex</th>\n",
              "      <th>Pclass</th>\n",
              "    </tr>\n",
              "  </thead>\n",
              "  <tbody>\n",
              "    <tr>\n",
              "      <th>0</th>\n",
              "      <td>1.0</td>\n",
              "      <td>22.000000</td>\n",
              "      <td>1.0</td>\n",
              "      <td>0.0</td>\n",
              "      <td>7.2500</td>\n",
              "      <td>0.0</td>\n",
              "      <td>3.0</td>\n",
              "    </tr>\n",
              "    <tr>\n",
              "      <th>1</th>\n",
              "      <td>1.0</td>\n",
              "      <td>38.000000</td>\n",
              "      <td>1.0</td>\n",
              "      <td>0.0</td>\n",
              "      <td>71.2833</td>\n",
              "      <td>1.0</td>\n",
              "      <td>1.0</td>\n",
              "    </tr>\n",
              "    <tr>\n",
              "      <th>2</th>\n",
              "      <td>1.0</td>\n",
              "      <td>26.000000</td>\n",
              "      <td>0.0</td>\n",
              "      <td>0.0</td>\n",
              "      <td>7.9250</td>\n",
              "      <td>1.0</td>\n",
              "      <td>3.0</td>\n",
              "    </tr>\n",
              "    <tr>\n",
              "      <th>3</th>\n",
              "      <td>1.0</td>\n",
              "      <td>35.000000</td>\n",
              "      <td>1.0</td>\n",
              "      <td>0.0</td>\n",
              "      <td>53.1000</td>\n",
              "      <td>1.0</td>\n",
              "      <td>1.0</td>\n",
              "    </tr>\n",
              "    <tr>\n",
              "      <th>4</th>\n",
              "      <td>1.0</td>\n",
              "      <td>35.000000</td>\n",
              "      <td>0.0</td>\n",
              "      <td>0.0</td>\n",
              "      <td>8.0500</td>\n",
              "      <td>0.0</td>\n",
              "      <td>3.0</td>\n",
              "    </tr>\n",
              "    <tr>\n",
              "      <th>...</th>\n",
              "      <td>...</td>\n",
              "      <td>...</td>\n",
              "      <td>...</td>\n",
              "      <td>...</td>\n",
              "      <td>...</td>\n",
              "      <td>...</td>\n",
              "      <td>...</td>\n",
              "    </tr>\n",
              "    <tr>\n",
              "      <th>886</th>\n",
              "      <td>1.0</td>\n",
              "      <td>27.000000</td>\n",
              "      <td>0.0</td>\n",
              "      <td>0.0</td>\n",
              "      <td>13.0000</td>\n",
              "      <td>0.0</td>\n",
              "      <td>2.0</td>\n",
              "    </tr>\n",
              "    <tr>\n",
              "      <th>887</th>\n",
              "      <td>1.0</td>\n",
              "      <td>19.000000</td>\n",
              "      <td>0.0</td>\n",
              "      <td>0.0</td>\n",
              "      <td>30.0000</td>\n",
              "      <td>1.0</td>\n",
              "      <td>1.0</td>\n",
              "    </tr>\n",
              "    <tr>\n",
              "      <th>888</th>\n",
              "      <td>1.0</td>\n",
              "      <td>29.699118</td>\n",
              "      <td>1.0</td>\n",
              "      <td>2.0</td>\n",
              "      <td>23.4500</td>\n",
              "      <td>1.0</td>\n",
              "      <td>3.0</td>\n",
              "    </tr>\n",
              "    <tr>\n",
              "      <th>889</th>\n",
              "      <td>1.0</td>\n",
              "      <td>26.000000</td>\n",
              "      <td>0.0</td>\n",
              "      <td>0.0</td>\n",
              "      <td>30.0000</td>\n",
              "      <td>0.0</td>\n",
              "      <td>1.0</td>\n",
              "    </tr>\n",
              "    <tr>\n",
              "      <th>890</th>\n",
              "      <td>1.0</td>\n",
              "      <td>32.000000</td>\n",
              "      <td>0.0</td>\n",
              "      <td>0.0</td>\n",
              "      <td>7.7500</td>\n",
              "      <td>0.0</td>\n",
              "      <td>3.0</td>\n",
              "    </tr>\n",
              "  </tbody>\n",
              "</table>\n",
              "<p>891 rows × 7 columns</p>\n",
              "</div>\n",
              "      <button class=\"colab-df-convert\" onclick=\"convertToInteractive('df-0e662bb8-0a66-47c4-99aa-00f512528829')\"\n",
              "              title=\"Convert this dataframe to an interactive table.\"\n",
              "              style=\"display:none;\">\n",
              "        \n",
              "  <svg xmlns=\"http://www.w3.org/2000/svg\" height=\"24px\"viewBox=\"0 0 24 24\"\n",
              "       width=\"24px\">\n",
              "    <path d=\"M0 0h24v24H0V0z\" fill=\"none\"/>\n",
              "    <path d=\"M18.56 5.44l.94 2.06.94-2.06 2.06-.94-2.06-.94-.94-2.06-.94 2.06-2.06.94zm-11 1L8.5 8.5l.94-2.06 2.06-.94-2.06-.94L8.5 2.5l-.94 2.06-2.06.94zm10 10l.94 2.06.94-2.06 2.06-.94-2.06-.94-.94-2.06-.94 2.06-2.06.94z\"/><path d=\"M17.41 7.96l-1.37-1.37c-.4-.4-.92-.59-1.43-.59-.52 0-1.04.2-1.43.59L10.3 9.45l-7.72 7.72c-.78.78-.78 2.05 0 2.83L4 21.41c.39.39.9.59 1.41.59.51 0 1.02-.2 1.41-.59l7.78-7.78 2.81-2.81c.8-.78.8-2.07 0-2.86zM5.41 20L4 18.59l7.72-7.72 1.47 1.35L5.41 20z\"/>\n",
              "  </svg>\n",
              "      </button>\n",
              "      \n",
              "  <style>\n",
              "    .colab-df-container {\n",
              "      display:flex;\n",
              "      flex-wrap:wrap;\n",
              "      gap: 12px;\n",
              "    }\n",
              "\n",
              "    .colab-df-convert {\n",
              "      background-color: #E8F0FE;\n",
              "      border: none;\n",
              "      border-radius: 50%;\n",
              "      cursor: pointer;\n",
              "      display: none;\n",
              "      fill: #1967D2;\n",
              "      height: 32px;\n",
              "      padding: 0 0 0 0;\n",
              "      width: 32px;\n",
              "    }\n",
              "\n",
              "    .colab-df-convert:hover {\n",
              "      background-color: #E2EBFA;\n",
              "      box-shadow: 0px 1px 2px rgba(60, 64, 67, 0.3), 0px 1px 3px 1px rgba(60, 64, 67, 0.15);\n",
              "      fill: #174EA6;\n",
              "    }\n",
              "\n",
              "    [theme=dark] .colab-df-convert {\n",
              "      background-color: #3B4455;\n",
              "      fill: #D2E3FC;\n",
              "    }\n",
              "\n",
              "    [theme=dark] .colab-df-convert:hover {\n",
              "      background-color: #434B5C;\n",
              "      box-shadow: 0px 1px 3px 1px rgba(0, 0, 0, 0.15);\n",
              "      filter: drop-shadow(0px 1px 2px rgba(0, 0, 0, 0.3));\n",
              "      fill: #FFFFFF;\n",
              "    }\n",
              "  </style>\n",
              "\n",
              "      <script>\n",
              "        const buttonEl =\n",
              "          document.querySelector('#df-0e662bb8-0a66-47c4-99aa-00f512528829 button.colab-df-convert');\n",
              "        buttonEl.style.display =\n",
              "          google.colab.kernel.accessAllowed ? 'block' : 'none';\n",
              "\n",
              "        async function convertToInteractive(key) {\n",
              "          const element = document.querySelector('#df-0e662bb8-0a66-47c4-99aa-00f512528829');\n",
              "          const dataTable =\n",
              "            await google.colab.kernel.invokeFunction('convertToInteractive',\n",
              "                                                     [key], {});\n",
              "          if (!dataTable) return;\n",
              "\n",
              "          const docLinkHtml = 'Like what you see? Visit the ' +\n",
              "            '<a target=\"_blank\" href=https://colab.research.google.com/notebooks/data_table.ipynb>data table notebook</a>'\n",
              "            + ' to learn more about interactive tables.';\n",
              "          element.innerHTML = '';\n",
              "          dataTable['output_type'] = 'display_data';\n",
              "          await google.colab.output.renderOutput(dataTable, element);\n",
              "          const docLink = document.createElement('div');\n",
              "          docLink.innerHTML = docLinkHtml;\n",
              "          element.appendChild(docLink);\n",
              "        }\n",
              "      </script>\n",
              "    </div>\n",
              "  </div>\n",
              "  "
            ]
          },
          "metadata": {},
          "execution_count": 11
        }
      ]
    },
    {
      "cell_type": "code",
      "source": [
        "model = sm.Logit(y, X)\n",
        "result = model.fit()\n",
        "print(result.summary())"
      ],
      "metadata": {
        "colab": {
          "base_uri": "https://localhost:8080/"
        },
        "id": "solmmc9Cj6oI",
        "outputId": "c0a37fd7-d01c-43df-9171-e4cc8410b473"
      },
      "execution_count": null,
      "outputs": [
        {
          "output_type": "stream",
          "name": "stdout",
          "text": [
            "Optimization terminated successfully.\n",
            "         Current function value: 0.442607\n",
            "         Iterations 6\n",
            "                           Logit Regression Results                           \n",
            "==============================================================================\n",
            "Dep. Variable:               Survived   No. Observations:                  891\n",
            "Model:                          Logit   Df Residuals:                      884\n",
            "Method:                           MLE   Df Model:                            6\n",
            "Date:                Sun, 16 Oct 2022   Pseudo R-squ.:                  0.3353\n",
            "Time:                        18:10:20   Log-Likelihood:                -394.36\n",
            "converged:                       True   LL-Null:                       -593.33\n",
            "Covariance Type:            nonrobust   LLR p-value:                 7.794e-83\n",
            "==============================================================================\n",
            "                 coef    std err          z      P>|z|      [0.025      0.975]\n",
            "------------------------------------------------------------------------------\n",
            "Intercept      2.1975      0.480      4.580      0.000       1.257       3.138\n",
            "Age           -0.0397      0.008     -5.092      0.000      -0.055      -0.024\n",
            "SibSp         -0.3507      0.110     -3.201      0.001      -0.565      -0.136\n",
            "Parch         -0.1120      0.117     -0.954      0.340      -0.342       0.118\n",
            "Fare           0.0029      0.002      1.208      0.227      -0.002       0.007\n",
            "Sex            2.7629      0.199     13.883      0.000       2.373       3.153\n",
            "Pclass        -1.0843      0.139     -7.794      0.000      -1.357      -0.812\n",
            "==============================================================================\n"
          ]
        }
      ]
    },
    {
      "cell_type": "code",
      "source": [
        "print(dir(result))"
      ],
      "metadata": {
        "colab": {
          "base_uri": "https://localhost:8080/"
        },
        "id": "xM3l91QhxO7C",
        "outputId": "4ef257d6-21a1-4c61-baf0-23a7589dce0a"
      },
      "execution_count": null,
      "outputs": [
        {
          "output_type": "stream",
          "name": "stdout",
          "text": [
            "['__class__', '__delattr__', '__dict__', '__dir__', '__doc__', '__eq__', '__format__', '__ge__', '__getattribute__', '__getstate__', '__gt__', '__hash__', '__init__', '__init_subclass__', '__le__', '__lt__', '__module__', '__ne__', '__new__', '__reduce__', '__reduce_ex__', '__repr__', '__setattr__', '__sizeof__', '__str__', '__subclasshook__', '__weakref__', '_cache', '_data_attr', '_data_in_cache', '_get_endog_name', '_get_robustcov_results', '_use_t', 'aic', 'bic', 'bse', 'conf_int', 'cov_kwds', 'cov_params', 'cov_type', 'df_model', 'df_resid', 'f_test', 'fittedvalues', 'get_margeff', 'initialize', 'k_constant', 'llf', 'llnull', 'llr', 'llr_pvalue', 'load', 'mle_retvals', 'mle_settings', 'model', 'nobs', 'normalized_cov_params', 'params', 'pred_table', 'predict', 'prsquared', 'pvalues', 'remove_data', 'resid_dev', 'resid_generalized', 'resid_pearson', 'resid_response', 'save', 'scale', 'set_null_options', 'summary', 'summary2', 't_test', 't_test_pairwise', 'tvalues', 'use_t', 'wald_test', 'wald_test_terms']\n"
          ]
        }
      ]
    },
    {
      "cell_type": "code",
      "source": [
        "def h(x):\n",
        "  return (np.exp(x)/(np.exp(x)+1))/(np.exp(x)+1)\n",
        "\n",
        "def calculate_diagW(teta, X):\n",
        "  return np.diag(h(X.dot(teta)))\n",
        "\n",
        "def calculate_phi(teta, X):\n",
        "  x = np.dot(X,teta)\n",
        "  return np.exp(x)/(np.exp(x)+1)\n",
        "\n",
        "p = X.shape[1]  \n",
        "teta = np.ones(p)*0.003"
      ],
      "metadata": {
        "id": "ToSMboE2ZcgI"
      },
      "execution_count": null,
      "outputs": []
    },
    {
      "cell_type": "code",
      "source": [
        "def calculate_teta_mv(X, y, rho=1e-10):\n",
        "  X = X.to_numpy() \n",
        "  y = y.to_numpy().flatten()\n",
        "  n, p = X.shape\n",
        "  teta = np.zeros(p)*0.03\n",
        "  W = calculate_diagW(teta,X)\n",
        "  phi = calculate_phi(teta,X)\n",
        "  while np.linalg.norm(np.dot(X.transpose(), y-phi)) >= rho:\n",
        "    z = X.dot(teta) + np.linalg.inv(W).dot(y-phi)\n",
        "    F = np.linalg.inv(np.linalg.multi_dot([X.transpose(), W, X])) \n",
        "    teta = np.linalg.multi_dot([F, X.transpose(), W, z])\n",
        "    W = calculate_diagW(teta,X)\n",
        "    phi = calculate_phi(teta,X)\n",
        "  return teta\n",
        "\n",
        "print(calculate_teta_mv(X, y))\n",
        "teta_chute = (result.conf_int(alpha=0.05).to_numpy()[:,0] + result.conf_int(alpha=0.05).to_numpy()[:,1])/2"
      ],
      "metadata": {
        "id": "KKFbaHvdx8aY",
        "colab": {
          "base_uri": "https://localhost:8080/"
        },
        "outputId": "e77a5fbe-d74e-4b51-8c24-7f18a1226ba8"
      },
      "execution_count": null,
      "outputs": [
        {
          "output_type": "stream",
          "name": "stdout",
          "text": [
            "[ 2.19751524 -0.03970162 -0.35072475 -0.1119633   0.00285183  2.76293003\n",
            " -1.08429733]\n"
          ]
        }
      ]
    },
    {
      "cell_type": "code",
      "source": [
        "def F(teta, X):\n",
        "  W = calculate_diagW(teta, X)\n",
        "  return np.linalg.multi_dot([X.transpose(), W, X])\n",
        "\n",
        "def calculate_conf_interval(X, y, alpha = 0.05):\n",
        "  teta_mv = calculate_teta_mv(X, y)\n",
        "  n = X.shape[0]\n",
        "  beta = np.diag(np.linalg.inv(F(teta_mv, X)/n))\n",
        "  q = scipy.stats.norm.ppf(1-alpha/2)\n",
        "\n",
        "  interval = []\n",
        "  for k in np.arange(X.shape[1]):\n",
        "    interval.append([teta_mv[k] - np.sqrt(n/beta[k])*q, teta_mv[k] + np.sqrt(n/beta[k])*q])\n",
        "  return interval\n",
        "\n",
        "def calculate_p_value(X, y, alpha = 0.05):\n",
        "  teta_mv = calculate_teta_mv(X,y)\n",
        "  n = X.shape[0]\n",
        "  beta = np.diag(np.linalg.inv(F(teta_mv, X)/n))\n",
        "\n",
        "  p_val = []\n",
        "  for k in np.arange(X.shape[1]):\n",
        "    Fr = scipy.stats.norm.cdf(np.abs(teta_mv[k])*np.sqrt(n/beta[k]))\n",
        "    p_val.append([2-2*Fr])\n",
        "  return p_val\n",
        "\n",
        "\n",
        "print(calculate_conf_interval(X,y))"
      ],
      "metadata": {
        "id": "lIwBTLEgdClC",
        "colab": {
          "base_uri": "https://localhost:8080/"
        },
        "outputId": "fb6688e2-05d0-43d5-b7fa-690c5a452346"
      },
      "execution_count": null,
      "outputs": [
        {
          "output_type": "stream",
          "name": "stdout",
          "text": [
            "[[-1.8877018690371772, 6.28273235399278], [-251.40056629947873, 251.3211630503331], [-18.241432881736085, 17.539983376023496], [-16.806651939883025, 16.582725345110397], [-829.970778309526, 829.9764819601886], [-7.085593221568273, 12.611453290872852], [-15.172694408447622, 13.00409974880149]]\n"
          ]
        }
      ]
    },
    {
      "cell_type": "code",
      "source": [
        "print(X.columns, \"\\n\", calculate_p_value(X,y))"
      ],
      "metadata": {
        "colab": {
          "base_uri": "https://localhost:8080/"
        },
        "id": "mgusi_YQj5QD",
        "outputId": "8fca9659-374c-45a2-99bb-b09ed929a21c"
      },
      "execution_count": null,
      "outputs": [
        {
          "output_type": "stream",
          "name": "stdout",
          "text": [
            "Index(['Intercept', 'Age', 'SibSp', 'Parch', 'Fare', 'Sex', 'Pclass'], dtype='object') \n",
            " [[4.6419183610257875e-06], [3.549761211640856e-07], [0.0013674083347348098], [0.340242046538465], [0.22718401556931567], [0.0], [6.439293542825908e-15]]\n"
          ]
        }
      ]
    },
    {
      "cell_type": "markdown",
      "source": [
        "**Réponse:**\n",
        "\n",
        " 6. La p-valeur du test est de 0.34024, qui est beaucoup plus grand que 0.05, et, donc, on ne peut pas réjéter l'hypothèse $β_{parch} = 0$, et, alors, on peut concluire que la variable n'est pas statistiquement signifiant pour notre analyse.\n",
        "\n"
      ],
      "metadata": {
        "id": "J5OyNmORi56E"
      }
    },
    {
      "cell_type": "code",
      "source": [
        "# Confidence interval for alpha=0.05\n",
        "print(result.conf_int(alpha=0.05).to_numpy())"
      ],
      "metadata": {
        "colab": {
          "base_uri": "https://localhost:8080/"
        },
        "id": "GbM2GLGcMnXX",
        "outputId": "cbbb5935-e422-47cc-a2a1-366805780ebf"
      },
      "execution_count": null,
      "outputs": [
        {
          "output_type": "stream",
          "name": "stdout",
          "text": [
            "[[ 1.25718362e+00  3.13784686e+00]\n",
            " [-5.49842694e-02 -2.44189797e-02]\n",
            " [-5.65442851e-01 -1.36006655e-01]\n",
            " [-3.42063954e-01  1.18137359e-01]\n",
            " [-1.77658536e-03  7.48023602e-03]\n",
            " [ 2.37287574e+00  3.15298433e+00]\n",
            " [-1.35696560e+00 -8.11629063e-01]]\n"
          ]
        }
      ]
    },
    {
      "cell_type": "code",
      "source": [
        "y2, X2 = dmatrices('Survived ~ Age + SibSp  + Fare + Sex + Pclass', data=df, return_type='dataframe')\n",
        "model = sm.Logit(y2, X2)\n",
        "result = model.fit()\n",
        "print(result.summary())"
      ],
      "metadata": {
        "colab": {
          "base_uri": "https://localhost:8080/"
        },
        "id": "1yoNJxYFP4Lk",
        "outputId": "6bb823cd-e4ac-4786-8a43-dc4093c704ca"
      },
      "execution_count": null,
      "outputs": [
        {
          "output_type": "stream",
          "name": "stdout",
          "text": [
            "Optimization terminated successfully.\n",
            "         Current function value: 0.443127\n",
            "         Iterations 6\n",
            "                           Logit Regression Results                           \n",
            "==============================================================================\n",
            "Dep. Variable:               Survived   No. Observations:                  891\n",
            "Model:                          Logit   Df Residuals:                      885\n",
            "Method:                           MLE   Df Model:                            5\n",
            "Date:                Sun, 16 Oct 2022   Pseudo R-squ.:                  0.3346\n",
            "Time:                        18:10:24   Log-Likelihood:                -394.83\n",
            "converged:                       True   LL-Null:                       -593.33\n",
            "Covariance Type:            nonrobust   LLR p-value:                 1.312e-83\n",
            "==============================================================================\n",
            "                 coef    std err          z      P>|z|      [0.025      0.975]\n",
            "------------------------------------------------------------------------------\n",
            "Intercept      2.2160      0.478      4.638      0.000       1.280       3.152\n",
            "Age           -0.0394      0.008     -5.067      0.000      -0.055      -0.024\n",
            "SibSp         -0.3786      0.106     -3.565      0.000      -0.587      -0.170\n",
            "Fare           0.0024      0.002      1.054      0.292      -0.002       0.007\n",
            "Sex            2.7264      0.195     14.013      0.000       2.345       3.108\n",
            "Pclass        -1.0982      0.138     -7.960      0.000      -1.369      -0.828\n",
            "==============================================================================\n"
          ]
        }
      ]
    },
    {
      "cell_type": "code",
      "source": [
        "print(calculate_conf_interval(X2,y2))"
      ],
      "metadata": {
        "colab": {
          "base_uri": "https://localhost:8080/"
        },
        "id": "Jz8RqjpHg1qe",
        "outputId": "73e78628-1e3b-45cc-b66d-e81f7e785e0f"
      },
      "execution_count": null,
      "outputs": [
        {
          "output_type": "stream",
          "name": "stdout",
          "text": [
            "[[-1.8864908868870138, 6.318408040166178], [-252.17758915525962, 252.098818842267], [-18.83203330017505, 18.074742092179584], [-870.9099344827833, 870.9146802043102], [-7.347361642140827, 12.800178019759292], [-15.304015914953196, 13.107637805460916]]\n"
          ]
        }
      ]
    },
    {
      "cell_type": "code",
      "source": [
        "print(X2.columns, \"\\n\",calculate_p_value(X2,y2))"
      ],
      "metadata": {
        "colab": {
          "base_uri": "https://localhost:8080/"
        },
        "id": "VofyhkALkV0e",
        "outputId": "20706003-a731-4201-f36d-1b5421726787"
      },
      "execution_count": null,
      "outputs": [
        {
          "output_type": "stream",
          "name": "stdout",
          "text": [
            "Index(['Intercept', 'Age', 'SibSp', 'Fare', 'Sex', 'Pclass'], dtype='object') \n",
            " [[3.5132381495106557e-06], [4.048223014585517e-07], [0.00036384024525548675], [0.2917073835374464], [0.0], [1.7763568394002505e-15]]\n"
          ]
        }
      ]
    },
    {
      "cell_type": "markdown",
      "source": [
        "**Réponse:**\n",
        "\n",
        "\n",
        "\n",
        "  7. On voit que l'intervalle de confiance augmente pour toutes les variables, mais de façon négligeable pour la plupart d'entre elles."
      ],
      "metadata": {
        "id": "mzBMK_DRiI53"
      }
    },
    {
      "cell_type": "markdown",
      "source": [
        "**Réponse:**\n",
        "\n",
        "8. La p-valeur de $β_{fare}$ est de 0,291, et, de la même façon de la question 6. on peut concluire que ce paramètre n'est pas statistiquement signifiant"
      ],
      "metadata": {
        "id": "NwO4avyMkVTO"
      }
    },
    {
      "cell_type": "code",
      "source": [
        "y3, X3 = dmatrices('Survived ~ Age + SibSp + Sex + Pclass', data=df, return_type='dataframe')\n",
        "model = sm.Logit(y3, X3)\n",
        "result = model.fit()\n",
        "print(result.summary())"
      ],
      "metadata": {
        "colab": {
          "base_uri": "https://localhost:8080/"
        },
        "id": "7jkJbQGdQFdV",
        "outputId": "3a1b2fcc-6e67-45f1-e2c8-2fdb84f1886c"
      },
      "execution_count": null,
      "outputs": [
        {
          "output_type": "stream",
          "name": "stdout",
          "text": [
            "Optimization terminated successfully.\n",
            "         Current function value: 0.443796\n",
            "         Iterations 6\n",
            "                           Logit Regression Results                           \n",
            "==============================================================================\n",
            "Dep. Variable:               Survived   No. Observations:                  891\n",
            "Model:                          Logit   Df Residuals:                      886\n",
            "Method:                           MLE   Df Model:                            4\n",
            "Date:                Sun, 16 Oct 2022   Pseudo R-squ.:                  0.3336\n",
            "Time:                        18:10:26   Log-Likelihood:                -395.42\n",
            "converged:                       True   LL-Null:                       -593.33\n",
            "Covariance Type:            nonrobust   LLR p-value:                 2.236e-84\n",
            "==============================================================================\n",
            "                 coef    std err          z      P>|z|      [0.025      0.975]\n",
            "------------------------------------------------------------------------------\n",
            "Intercept      2.4522      0.424      5.779      0.000       1.621       3.284\n",
            "Age           -0.0398      0.008     -5.131      0.000      -0.055      -0.025\n",
            "SibSp         -0.3578      0.104     -3.439      0.001      -0.562      -0.154\n",
            "Sex            2.7398      0.194     14.112      0.000       2.359       3.120\n",
            "Pclass        -1.1724      0.120     -9.792      0.000      -1.407      -0.938\n",
            "==============================================================================\n"
          ]
        }
      ]
    },
    {
      "cell_type": "code",
      "source": [
        "print(calculate_p_value(X3,y3))\n",
        "print(calculate_conf_interval(X3,y3))"
      ],
      "metadata": {
        "colab": {
          "base_uri": "https://localhost:8080/"
        },
        "id": "ga-LbPRyg5f4",
        "outputId": "05a0fed4-f58d-44f0-c1db-7a3f3bb69a23"
      },
      "execution_count": null,
      "outputs": [
        {
          "output_type": "stream",
          "name": "stdout",
          "text": [
            "[[7.511889332789679e-09], [2.8794125550568594e-07], [0.0005834542700073886], [0.0], [0.0]]\n",
            "[[-2.1669031748732497, 7.0712425703736965], [-252.76948810322756, 252.6899017659586], [-19.197670529916802, 18.482093701022006], [-7.355689427949155, 12.835301740603114], [-17.542925970848113, 15.198144099511337]]\n"
          ]
        }
      ]
    },
    {
      "cell_type": "markdown",
      "source": [
        "**Réponse:**\n",
        "\n",
        "  9. On voit que l'intervalle de confiance augmente pour toutes les variables, mais de façon négligeable pour la plupart d'entre elles."
      ],
      "metadata": {
        "id": "nJ7Wyjbyiq3h"
      }
    },
    {
      "cell_type": "code",
      "source": [
        "X_test = pd.DataFrame(\n",
        "    { \"Age\": [22, 22],\n",
        "     \"SibSp\": [0,0],\n",
        "     \"Sex\": [0, 1],\n",
        "     \"Pclass\": [1, 1],\n",
        "   \"Survived\": [0, 0],\n",
        "    }\n",
        ")\n",
        "y_test2, X_test2  = dmatrices('Survived ~ Age + SibSp + Sex + Pclass', data=X_test, return_type='dataframe')\n",
        "y_result = result.predict(X_test2)\n",
        "print(y_result)"
      ],
      "metadata": {
        "colab": {
          "base_uri": "https://localhost:8080/"
        },
        "id": "boyEKtcfQMMt",
        "outputId": "a7dec15b-4ed6-4693-8163-9b532575cbce"
      },
      "execution_count": null,
      "outputs": [
        {
          "output_type": "stream",
          "name": "stdout",
          "text": [
            "0    0.599727\n",
            "1    0.958677\n",
            "dtype: float64\n"
          ]
        }
      ]
    }
  ]
}
